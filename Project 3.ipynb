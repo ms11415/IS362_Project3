{
 "cells": [
  {
   "cell_type": "markdown",
   "metadata": {},
   "source": [
    "# Project 3\n",
    "\n",
    "**This project will connect to the Chinook database (downloaded locally) and query using SQL to create a pandas DataFrame that displays Customers' Last Name and First Name, and each customer’s purchased Track names and Album Titles.  Only the first 5 items will be listed.**\n",
    "\n",
    "**First we connect to the database.**"
   ]
  },
  {
   "cell_type": "code",
   "execution_count": 1,
   "metadata": {},
   "outputs": [],
   "source": [
    "import sqlalchemy as sqla\n",
    "import pandas as pd\n",
    "\n",
    "db = sqla.create_engine('sqlite:///Chinook_Sqlite.sqlite')"
   ]
  },
  {
   "cell_type": "markdown",
   "metadata": {},
   "source": [
    "***Next we query the database to find the table names.***"
   ]
  },
  {
   "cell_type": "code",
   "execution_count": 2,
   "metadata": {},
   "outputs": [
    {
     "data": {
      "text/html": [
       "<div>\n",
       "<style>\n",
       "    .dataframe thead tr:only-child th {\n",
       "        text-align: right;\n",
       "    }\n",
       "\n",
       "    .dataframe thead th {\n",
       "        text-align: left;\n",
       "    }\n",
       "\n",
       "    .dataframe tbody tr th {\n",
       "        vertical-align: top;\n",
       "    }\n",
       "</style>\n",
       "<table border=\"1\" class=\"dataframe\">\n",
       "  <thead>\n",
       "    <tr style=\"text-align: right;\">\n",
       "      <th></th>\n",
       "      <th>tbl_name</th>\n",
       "    </tr>\n",
       "  </thead>\n",
       "  <tbody>\n",
       "    <tr>\n",
       "      <th>0</th>\n",
       "      <td>Album</td>\n",
       "    </tr>\n",
       "    <tr>\n",
       "      <th>1</th>\n",
       "      <td>Artist</td>\n",
       "    </tr>\n",
       "    <tr>\n",
       "      <th>2</th>\n",
       "      <td>Customer</td>\n",
       "    </tr>\n",
       "    <tr>\n",
       "      <th>3</th>\n",
       "      <td>Employee</td>\n",
       "    </tr>\n",
       "    <tr>\n",
       "      <th>4</th>\n",
       "      <td>Genre</td>\n",
       "    </tr>\n",
       "    <tr>\n",
       "      <th>5</th>\n",
       "      <td>Invoice</td>\n",
       "    </tr>\n",
       "    <tr>\n",
       "      <th>6</th>\n",
       "      <td>InvoiceLine</td>\n",
       "    </tr>\n",
       "    <tr>\n",
       "      <th>7</th>\n",
       "      <td>MediaType</td>\n",
       "    </tr>\n",
       "    <tr>\n",
       "      <th>8</th>\n",
       "      <td>Playlist</td>\n",
       "    </tr>\n",
       "    <tr>\n",
       "      <th>9</th>\n",
       "      <td>PlaylistTrack</td>\n",
       "    </tr>\n",
       "    <tr>\n",
       "      <th>10</th>\n",
       "      <td>Track</td>\n",
       "    </tr>\n",
       "  </tbody>\n",
       "</table>\n",
       "</div>"
      ],
      "text/plain": [
       "         tbl_name\n",
       "0           Album\n",
       "1          Artist\n",
       "2        Customer\n",
       "3        Employee\n",
       "4           Genre\n",
       "5         Invoice\n",
       "6     InvoiceLine\n",
       "7       MediaType\n",
       "8        Playlist\n",
       "9   PlaylistTrack\n",
       "10          Track"
      ]
     },
     "execution_count": 2,
     "metadata": {},
     "output_type": "execute_result"
    }
   ],
   "source": [
    "tablequery = \"SELECT tbl_name FROM sqlite_master WHERE type = 'table'\"\n",
    "tables = pd.read_sql(tablequery, db)\n",
    "tables"
   ]
  },
  {
   "cell_type": "markdown",
   "metadata": {},
   "source": [
    "**Next we query each table to find the structure of the data.**"
   ]
  },
  {
   "cell_type": "code",
   "execution_count": 3,
   "metadata": {},
   "outputs": [
    {
     "name": "stdout",
     "output_type": "stream",
     "text": [
      "   AlbumId                                  Title  ArtistId\n",
      "0        1  For Those About To Rock We Salute You         1\n",
      "   ArtistId   Name\n",
      "0         1  AC/DC\n",
      "   CustomerId FirstName   LastName  \\\n",
      "0           1      Luís  Gonçalves   \n",
      "\n",
      "                                            Company  \\\n",
      "0  Embraer - Empresa Brasileira de Aeronáutica S.A.   \n",
      "\n",
      "                           Address                 City State Country  \\\n",
      "0  Av. Brigadeiro Faria Lima, 2170  São José dos Campos    SP  Brazil   \n",
      "\n",
      "  PostalCode               Phone                 Fax                 Email  \\\n",
      "0  12227-000  +55 (12) 3923-5555  +55 (12) 3923-5566  luisg@embraer.com.br   \n",
      "\n",
      "   SupportRepId  \n",
      "0             3  \n",
      "   EmployeeId LastName FirstName            Title  ReportsTo  BirthDate  \\\n",
      "0           1    Adams    Andrew  General Manager        NaN 1962-02-18   \n",
      "\n",
      "    HireDate              Address      City State Country PostalCode  \\\n",
      "0 2002-08-14  11120 Jasper Ave NW  Edmonton    AB  Canada    T5K 2N1   \n",
      "\n",
      "               Phone                Fax                   Email  \n",
      "0  +1 (780) 428-9482  +1 (780) 428-3457  andrew@chinookcorp.com  \n",
      "   GenreId  Name\n",
      "0        1  Rock\n",
      "   InvoiceId  CustomerId InvoiceDate           BillingAddress BillingCity  \\\n",
      "0          1           2  2009-01-01  Theodor-Heuss-Straße 34   Stuttgart   \n",
      "\n",
      "  BillingState BillingCountry BillingPostalCode  Total  \n",
      "0         None        Germany             70174   1.98  \n",
      "   InvoiceLineId  InvoiceId  TrackId  UnitPrice  Quantity\n",
      "0              1          1        2       0.99         1\n",
      "   MediaTypeId             Name\n",
      "0            1  MPEG audio file\n",
      "   PlaylistId   Name\n",
      "0           1  Music\n",
      "   PlaylistId  TrackId\n",
      "0           1     3402\n",
      "   TrackId                                     Name  AlbumId  MediaTypeId  \\\n",
      "0        1  For Those About To Rock (We Salute You)        1            1   \n",
      "\n",
      "   GenreId                                   Composer  Milliseconds     Bytes  \\\n",
      "0        1  Angus Young, Malcolm Young, Brian Johnson        343719  11170334   \n",
      "\n",
      "   UnitPrice  \n",
      "0       0.99  \n"
     ]
    }
   ],
   "source": [
    "tablenames = tables['tbl_name'].tolist()\n",
    "for i in tablenames:\n",
    "    print pd.read_sql_table(i, db).head(1)"
   ]
  },
  {
   "cell_type": "markdown",
   "metadata": {},
   "source": [
    "**From this we see that we will need to join the relevant information from Customers, Invoice, InvoiceLine, Track and Album to get the requested results.**"
   ]
  },
  {
   "cell_type": "code",
   "execution_count": 4,
   "metadata": {},
   "outputs": [
    {
     "data": {
      "text/html": [
       "<div>\n",
       "<style>\n",
       "    .dataframe thead tr:only-child th {\n",
       "        text-align: right;\n",
       "    }\n",
       "\n",
       "    .dataframe thead th {\n",
       "        text-align: left;\n",
       "    }\n",
       "\n",
       "    .dataframe tbody tr th {\n",
       "        vertical-align: top;\n",
       "    }\n",
       "</style>\n",
       "<table border=\"1\" class=\"dataframe\">\n",
       "  <thead>\n",
       "    <tr style=\"text-align: right;\">\n",
       "      <th></th>\n",
       "      <th>LastName</th>\n",
       "      <th>FirstName</th>\n",
       "      <th>Name</th>\n",
       "      <th>Title</th>\n",
       "    </tr>\n",
       "  </thead>\n",
       "  <tbody>\n",
       "    <tr>\n",
       "      <th>0</th>\n",
       "      <td>Almeida</td>\n",
       "      <td>Roberto</td>\n",
       "      <td>Right Next Door to Hell</td>\n",
       "      <td>Use Your Illusion I</td>\n",
       "    </tr>\n",
       "    <tr>\n",
       "      <th>1</th>\n",
       "      <td>Almeida</td>\n",
       "      <td>Roberto</td>\n",
       "      <td>In The Evening</td>\n",
       "      <td>In Through The Out Door</td>\n",
       "    </tr>\n",
       "    <tr>\n",
       "      <th>2</th>\n",
       "      <td>Almeida</td>\n",
       "      <td>Roberto</td>\n",
       "      <td>Fool In The Rain</td>\n",
       "      <td>In Through The Out Door</td>\n",
       "    </tr>\n",
       "    <tr>\n",
       "      <th>3</th>\n",
       "      <td>Almeida</td>\n",
       "      <td>Roberto</td>\n",
       "      <td>Saudade Dos Aviões Da Panair (Conversando No Bar)</td>\n",
       "      <td>Minas</td>\n",
       "    </tr>\n",
       "    <tr>\n",
       "      <th>4</th>\n",
       "      <td>Almeida</td>\n",
       "      <td>Roberto</td>\n",
       "      <td>Caso Você Queira Saber</td>\n",
       "      <td>Minas</td>\n",
       "    </tr>\n",
       "  </tbody>\n",
       "</table>\n",
       "</div>"
      ],
      "text/plain": [
       "  LastName FirstName                                               Name  \\\n",
       "0  Almeida   Roberto                            Right Next Door to Hell   \n",
       "1  Almeida   Roberto                                     In The Evening   \n",
       "2  Almeida   Roberto                                   Fool In The Rain   \n",
       "3  Almeida   Roberto  Saudade Dos Aviões Da Panair (Conversando No Bar)   \n",
       "4  Almeida   Roberto                             Caso Você Queira Saber   \n",
       "\n",
       "                     Title  \n",
       "0      Use Your Illusion I  \n",
       "1  In Through The Out Door  \n",
       "2  In Through The Out Door  \n",
       "3                    Minas  \n",
       "4                    Minas  "
      ]
     },
     "execution_count": 4,
     "metadata": {},
     "output_type": "execute_result"
    }
   ],
   "source": [
    "query = '''SELECT Customer.LastName, Customer.FirstName, Track.Name, Album.Title\n",
    "               FROM Customer\n",
    "               LEFT JOIN Invoice ON Customer.CustomerId = Invoice.CustomerId\n",
    "               LEFT JOIN InvoiceLine ON Invoice.InvoiceId = InvoiceLine.InvoiceId\n",
    "               LEFT JOIN Track ON InvoiceLine.TrackId = Track.TrackId\n",
    "               LEFT JOIN Album ON Track.AlbumId = Album.AlbumId\n",
    "               ORDER BY Customer.LastName, Customer.FirstName'''\n",
    "pd.read_sql(query, db).head()"
   ]
  }
 ],
 "metadata": {
  "kernelspec": {
   "display_name": "Python 2",
   "language": "python",
   "name": "python2"
  },
  "language_info": {
   "codemirror_mode": {
    "name": "ipython",
    "version": 2
   },
   "file_extension": ".py",
   "mimetype": "text/x-python",
   "name": "python",
   "nbconvert_exporter": "python",
   "pygments_lexer": "ipython2",
   "version": "2.7.13"
  }
 },
 "nbformat": 4,
 "nbformat_minor": 2
}
